{
 "cells": [
  {
   "cell_type": "code",
   "execution_count": 43,
   "metadata": {},
   "outputs": [
    {
     "name": "stdout",
     "output_type": "stream",
     "text": [
      "24\n",
      "20\n"
     ]
    }
   ],
   "source": [
    "def totals(expenses):\n",
    "    \n",
    "    total = 0\n",
    "    for y in expenses:\n",
    "        total += y\n",
    "    return total\n",
    "my = [3, 5, 7, 9]\n",
    "his = [2, 4, 6, 8]\n",
    "\n",
    "\n",
    "\n",
    "total = totals(my)\n",
    "print(total)\n",
    "total = totals(his)\n",
    "print(total)"
   ]
  }
 ],
 "metadata": {
  "kernelspec": {
   "display_name": "Python 3",
   "language": "python",
   "name": "python3"
  },
  "language_info": {
   "codemirror_mode": {
    "name": "ipython",
    "version": 3
   },
   "file_extension": ".py",
   "mimetype": "text/x-python",
   "name": "python",
   "nbconvert_exporter": "python",
   "pygments_lexer": "ipython3",
   "version": "3.12.3"
  }
 },
 "nbformat": 4,
 "nbformat_minor": 2
}
